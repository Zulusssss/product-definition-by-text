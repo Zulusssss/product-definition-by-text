{
 "cells": [
  {
   "cell_type": "code",
   "execution_count": 2,
   "metadata": {},
   "outputs": [
    {
     "name": "stderr",
     "output_type": "stream",
     "text": [
      "c:\\Users\\rostyslav\\AppData\\Local\\Programs\\Python\\Python311\\Lib\\site-packages\\tqdm\\auto.py:21: TqdmWarning: IProgress not found. Please update jupyter and ipywidgets. See https://ipywidgets.readthedocs.io/en/stable/user_install.html\n",
      "  from .autonotebook import tqdm as notebook_tqdm\n"
     ]
    }
   ],
   "source": [
    "import pandas as pd\n",
    "import numpy as np\n",
    "from sklearn.model_selection import train_test_split\n",
    "import torch\n",
    "from torch.utils.data import DataLoader, Dataset\n",
    "from transformers import BertTokenizer, BertForSequenceClassification, AdamW\n",
    "from sklearn.preprocessing import LabelEncoder\n",
    "from sklearn.metrics import classification_report\n",
    "\n",
    "# Загрузка данных\n",
    "url = \"https://axe.inline-ltd.ru/data/meatinfo.csv\"\n",
    "data = pd.read_csv(url, sep=';')\n",
    "\n",
    "# Отфильтруем классы с менее чем 500 примерами\n",
    "product_counts = data['mtype'].value_counts()\n",
    "valid_products = product_counts[product_counts >= 500].index\n",
    "data = data[data['mtype'].isin(valid_products)]\n",
    "\n",
    "# Уменьшите размер данных для отладки\n",
    "sample_data = data.sample(5000, random_state=42)  # Используем 1000 примеров для отладки\n",
    "\n",
    "# Разделение данных на обучающую и тестовую выборки\n",
    "train_texts, test_texts, train_labels, test_labels = train_test_split(\n",
    "    sample_data['text'], \n",
    "    sample_data['mtype'],\n",
    "    test_size=0.2,\n",
    "    random_state=42\n",
    ")\n",
    "\n",
    "# Кодирование меток\n",
    "label_encoder = LabelEncoder()\n",
    "train_labels = label_encoder.fit_transform(train_labels)\n",
    "test_labels = label_encoder.transform(test_labels)\n",
    "num_classes = len(label_encoder.classes_)"
   ]
  },
  {
   "cell_type": "code",
   "execution_count": 20,
   "metadata": {},
   "outputs": [],
   "source": [
    "# Создание кастомного Dataset и DataLoader\n",
    "class MeatDataset(Dataset):\n",
    "    def __init__(self, texts, labels, tokenizer, max_len):\n",
    "        self.texts = texts\n",
    "        self.labels = labels\n",
    "        self.tokenizer = tokenizer\n",
    "        self.max_len = max_len\n",
    "\n",
    "    def __len__(self):\n",
    "        return len(self.texts)\n",
    "\n",
    "    def __getitem__(self, item):\n",
    "        text = self.texts[item]\n",
    "        label = self.labels[item]\n",
    "\n",
    "        encoding = self.tokenizer.encode_plus(\n",
    "            text,\n",
    "            add_special_tokens=True,\n",
    "            max_length=self.max_len,\n",
    "            return_token_type_ids=False,\n",
    "            padding='max_length',\n",
    "            truncation=True,\n",
    "            return_attention_mask=True,\n",
    "            return_tensors='pt',\n",
    "        )\n",
    "\n",
    "        return {\n",
    "            'text': text,\n",
    "            'input_ids': encoding['input_ids'].flatten(),\n",
    "            'attention_mask': encoding['attention_mask'].flatten(),\n",
    "            'labels': torch.tensor(label, dtype=torch.long)\n",
    "        }\n",
    "\n",
    "# Инициализация токенизатора и создание DataLoader\n",
    "tokenizer = BertTokenizer.from_pretrained('bert-base-cased')\n",
    "max_len = 128\n",
    "\n",
    "train_dataset = MeatDataset(train_texts.values, train_labels, tokenizer, max_len)\n",
    "test_dataset = MeatDataset(test_texts.values, test_labels, tokenizer, max_len)\n",
    "\n",
    "train_loader = DataLoader(train_dataset, batch_size=16, shuffle=True)\n",
    "test_loader = DataLoader(test_dataset, batch_size=16, shuffle=False)"
   ]
  },
  {
   "cell_type": "code",
   "execution_count": 21,
   "metadata": {},
   "outputs": [
    {
     "name": "stderr",
     "output_type": "stream",
     "text": [
      "Some weights of BertForSequenceClassification were not initialized from the model checkpoint at bert-base-cased and are newly initialized: ['classifier.bias', 'classifier.weight']\n",
      "You should probably TRAIN this model on a down-stream task to be able to use it for predictions and inference.\n",
      "c:\\Users\\rostyslav\\AppData\\Local\\Programs\\Python\\Python311\\Lib\\site-packages\\transformers\\optimization.py:588: FutureWarning: This implementation of AdamW is deprecated and will be removed in a future version. Use the PyTorch implementation torch.optim.AdamW instead, or set `no_deprecation_warning=True` to disable this warning\n",
      "  warnings.warn(\n"
     ]
    },
    {
     "name": "stdout",
     "output_type": "stream",
     "text": [
      "Epoch 1/4, Loss: 0.5189\n",
      "Epoch 2/4, Loss: 0.1416\n",
      "Epoch 3/4, Loss: 0.1174\n",
      "Epoch 4/4, Loss: 0.1008\n"
     ]
    }
   ],
   "source": [
    "# Определение и обучение модели\n",
    "device = torch.device(\"cuda\" if torch.cuda.is_available() else \"cpu\")\n",
    "model = BertForSequenceClassification.from_pretrained('bert-base-cased', num_labels=num_classes)\n",
    "model = model.to(device)\n",
    "\n",
    "# Оптимизатор\n",
    "optimizer = AdamW(model.parameters(), lr=2e-5)\n",
    "\n",
    "# Обучение модели\n",
    "epochs = 4  # Уменьшите количество эпох для быстрой проверки\n",
    "\n",
    "for epoch in range(epochs):\n",
    "    model.train()\n",
    "    total_loss = 0\n",
    "    for batch in train_loader:\n",
    "        input_ids = batch['input_ids'].to(device)\n",
    "        attention_mask = batch['attention_mask'].to(device)\n",
    "        labels = batch['labels'].to(device)\n",
    "\n",
    "        model.zero_grad()\n",
    "        outputs = model(input_ids=input_ids, attention_mask=attention_mask, labels=labels)\n",
    "        loss = outputs.loss\n",
    "        total_loss += loss.item()\n",
    "\n",
    "        loss.backward()\n",
    "        optimizer.step()\n",
    "\n",
    "    avg_loss = total_loss / len(train_loader)\n",
    "    print(f'Epoch {epoch + 1}/{epochs}, Loss: {avg_loss:.4f}')"
   ]
  },
  {
   "cell_type": "code",
   "execution_count": 22,
   "metadata": {},
   "outputs": [
    {
     "name": "stdout",
     "output_type": "stream",
     "text": [
      "              precision    recall  f1-score   support\n",
      "\n",
      "    Баранина       0.98      1.00      0.99        64\n",
      "    Говядина       1.00      0.99      0.99       513\n",
      "     Индейка       0.99      1.00      0.99        83\n",
      "        Кура       0.85      0.72      0.78        92\n",
      "     Свинина       0.98      0.99      0.98       198\n",
      "    Цыпленок       0.60      0.76      0.67        50\n",
      "\n",
      "    accuracy                           0.95      1000\n",
      "   macro avg       0.90      0.91      0.90      1000\n",
      "weighted avg       0.96      0.95      0.96      1000\n",
      "\n"
     ]
    }
   ],
   "source": [
    "# Оценка модели\n",
    "model.eval()\n",
    "predictions, true_labels = [], []\n",
    "\n",
    "with torch.no_grad():\n",
    "    for batch in test_loader:\n",
    "        input_ids = batch['input_ids'].to(device)\n",
    "        attention_mask = batch['attention_mask'].to(device)\n",
    "        labels = batch['labels'].to(device)\n",
    "\n",
    "        outputs = model(input_ids=input_ids, attention_mask=attention_mask)\n",
    "        _, preds = torch.max(outputs.logits, dim=1)\n",
    "\n",
    "        predictions.extend(preds.cpu().numpy())\n",
    "        true_labels.extend(labels.cpu().numpy())\n",
    "\n",
    "print(classification_report(true_labels, predictions, target_names=label_encoder.classes_))"
   ]
  },
  {
   "cell_type": "code",
   "execution_count": 23,
   "metadata": {},
   "outputs": [
    {
     "name": "stdout",
     "output_type": "stream",
     "text": [
      "Text: Говядина блочная 2 сорт в наличии ООО 'АгроСоюз' реализует блочную говядину 2 сорт (80/20) Свободный объем 8 тонн Самовывоз или доставка. Все подробности по телефону.\n",
      "Predicted Product: Говядина\n",
      "\n",
      "Text: Куриная разделка Продам кур и куриную разделку гост и халяль по хорошей цене .Тел:\n",
      "Predicted Product: Кура\n",
      "\n",
      "Text: Говяжью мукозу Продам говяжью мукозу в охл и замороженном виде. Есть объем.\n",
      "Predicted Product: Говядина\n",
      "\n"
     ]
    }
   ],
   "source": [
    "# Тестирование на новых примерах\n",
    "def predict(text):\n",
    "    encoding = tokenizer.encode_plus(\n",
    "        text,\n",
    "        add_special_tokens=True,\n",
    "        max_length=max_len,\n",
    "        return_token_type_ids=False,\n",
    "        padding='max_length',\n",
    "        truncation=True,\n",
    "        return_attention_mask=True,\n",
    "        return_tensors='pt',\n",
    "    )\n",
    "    \n",
    "    input_ids = encoding['input_ids'].to(device)\n",
    "    attention_mask = encoding['attention_mask'].to(device)\n",
    "    \n",
    "    with torch.no_grad():\n",
    "        outputs = model(input_ids=input_ids, attention_mask=attention_mask)\n",
    "        _, pred = torch.max(outputs.logits, dim=1)\n",
    "    \n",
    "    return label_encoder.inverse_transform(pred.cpu().numpy())[0]\n",
    "\n",
    "examples = [\n",
    "    \"Говядина блочная 2 сорт в наличии ООО 'АгроСоюз' реализует блочную говядину 2 сорт (80/20) Свободный объем 8 тонн Самовывоз или доставка. Все подробности по телефону.\",\n",
    "    \"Куриная разделка Продам кур и куриную разделку гост и халяль по хорошей цене .Тел:\",\n",
    "    \"Говяжью мукозу Продам говяжью мукозу в охл и замороженном виде. Есть объем.\",\n",
    "]\n",
    "\n",
    "for example in examples:\n",
    "    print(f'Text: {example}\\nPredicted Product: {predict(example)}\\n')"
   ]
  },
  {
   "cell_type": "markdown",
   "metadata": {},
   "source": [
    "Это чисто для меня"
   ]
  },
  {
   "cell_type": "code",
   "execution_count": 1,
   "metadata": {},
   "outputs": [
    {
     "ename": "NameError",
     "evalue": "name 'data' is not defined",
     "output_type": "error",
     "traceback": [
      "\u001b[1;31m---------------------------------------------------------------------------\u001b[0m",
      "\u001b[1;31mNameError\u001b[0m                                 Traceback (most recent call last)",
      "Cell \u001b[1;32mIn[1], line 1\u001b[0m\n\u001b[1;32m----> 1\u001b[0m \u001b[38;5;28;01mfor\u001b[39;00m example \u001b[38;5;129;01min\u001b[39;00m \u001b[38;5;28mzip\u001b[39m(\u001b[43mdata\u001b[49m[\u001b[38;5;124m'\u001b[39m\u001b[38;5;124mtext\u001b[39m\u001b[38;5;124m'\u001b[39m], data[\u001b[38;5;124m'\u001b[39m\u001b[38;5;124mmtype\u001b[39m\u001b[38;5;124m'\u001b[39m]):\n\u001b[0;32m      2\u001b[0m     \u001b[38;5;66;03m## print(f'Text: {example[0]}\\nPredicted Product: {predict(example[0])}\\nExpected Product: {example[1]}\\n')\u001b[39;00m\n\u001b[0;32m      3\u001b[0m     \u001b[38;5;28mprint\u001b[39m(predict(example[\u001b[38;5;241m0\u001b[39m]) \u001b[38;5;241m==\u001b[39m example[\u001b[38;5;241m1\u001b[39m])\n",
      "\u001b[1;31mNameError\u001b[0m: name 'data' is not defined"
     ]
    }
   ],
   "source": [
    "for example in zip(data['text'], data['mtype']):\n",
    "    ## print(f'Text: {example[0]}\\nPredicted Product: {predict(example[0])}\\nExpected Product: {example[1]}\\n')\n",
    "    print(predict(example[0]) == example[1])"
   ]
  }
 ],
 "metadata": {
  "kernelspec": {
   "display_name": "venv",
   "language": "python",
   "name": "python3"
  },
  "language_info": {
   "codemirror_mode": {
    "name": "ipython",
    "version": 3
   },
   "file_extension": ".py",
   "mimetype": "text/x-python",
   "name": "python",
   "nbconvert_exporter": "python",
   "pygments_lexer": "ipython3",
   "version": "3.11.5"
  }
 },
 "nbformat": 4,
 "nbformat_minor": 2
}
